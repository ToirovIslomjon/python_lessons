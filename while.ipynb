{
 "cells": [
  {
   "cell_type": "code",
   "execution_count": 1,
   "id": "243226f7-e2ad-458d-bdeb-89d5b2adbab6",
   "metadata": {},
   "outputs": [],
   "source": [
    "# savol = \"Sevgan kitobingizni kiriting\"\n",
    "# savol += \"(barcha kitoblarni kiritib bo'lgach 'exit' deb yozing): \"\n",
    "# kitoblar = []\n",
    "# kitoblar = []\n",
    "\n",
    "# while True:\n",
    "#     kitob = input(savol)\n",
    "#     if kitob.lower() == 'exit':\n",
    "#         break\n",
    "#     kitoblar.append(kitob)\n",
    "\n",
    "# print(\"\\n Rahmat! Siz quyidagi kitoblarni kiritdingiz:\")\n",
    "\n",
    "# for nom in kitoblar:\n",
    "#     print(f\"- {nom.title()}\")\n"
   ]
  },
  {
   "cell_type": "code",
   "execution_count": null,
   "id": "8894a83a-1ead-4f11-8b0b-90ad8f67c65f",
   "metadata": {},
   "outputs": [
    {
     "name": "stdin",
     "output_type": "stream",
     "text": [
      "Yoshingizni kiriting:  12\n"
     ]
    },
    {
     "name": "stdout",
     "output_type": "stream",
     "text": [
      "Chipta narxi 3000 so`m \n"
     ]
    }
   ],
   "source": [
    "# savol = \"Yoshingizni kiriting: \"\n",
    "# while True:\n",
    "#     qiymat = input(savol)\n",
    "#     if qiymat == 'exit' or qiymat =='quit':\n",
    "#         break\n",
    "#     yosh = int(qiymat)\n",
    "   \n",
    "#     if yosh<7:\n",
    "#         narh = 2000\n",
    "#     elif 7<=yosh<18:\n",
    "#         narh = 3000\n",
    "#     elif 18<yosh<65:\n",
    "#         narh = 10000\n",
    "#     else: narh = 0\n",
    "    \n",
    "#     if narh == 0:\n",
    "#         print(\"Sizga chipta bepul!\")\n",
    "#     else: print(f\"Chipta narxi {narh} so`m \")"
   ]
  },
  {
   "cell_type": "code",
   "execution_count": null,
   "id": "be6cbb0d-9ae8-4d83-b18c-954aff2f39c4",
   "metadata": {},
   "outputs": [
    {
     "name": "stdin",
     "output_type": "stream",
     "text": [
      "Kiritilgan sonning ildizini qaytaruvchi dastur.\n",
      "Musbat son kiriting (dasturni to'xtatish uchun 'exit' deb yozing):  4\n"
     ]
    },
    {
     "name": "stdout",
     "output_type": "stream",
     "text": [
      "4 ning ildizi 2.0 ga teng\n"
     ]
    },
    {
     "name": "stdin",
     "output_type": "stream",
     "text": [
      "Kiritilgan sonning ildizini qaytaruvchi dastur.\n",
      "Musbat son kiriting (dasturni to'xtatish uchun 'exit' deb yozing):  23\n"
     ]
    },
    {
     "name": "stdout",
     "output_type": "stream",
     "text": [
      "23 ning ildizi 4.795831523312719 ga teng\n"
     ]
    }
   ],
   "source": [
    "# savol =\"Kiritilgan sonning ildizini qaytaruvchi dastur.\\n\"\n",
    "# savol += \"Musbat son kiriting \"\n",
    "# savol += \"(dasturni to'xtatish uchun 'exit' deb yozing): \"\n",
    "\n",
    "# while True:\n",
    "#     qiymat = input(savol)\n",
    "#     if float(qiymat)<0:\n",
    "#         continue\n",
    "#     elif qiymat=='Exit':\n",
    "#         break\n",
    "#     else:\n",
    "#         ildiz = float(qiymat)**(0.5)\n",
    "#         print(f\"{qiymat} ning ildizi {ildiz} ga teng\")\n"
   ]
  },
  {
   "cell_type": "code",
   "execution_count": 2,
   "id": "16f417d8-ba55-43ad-b467-11ecadc90be9",
   "metadata": {},
   "outputs": [
    {
     "name": "stdin",
     "output_type": "stream",
     "text": [
      "buyurtmangizni kiriting: (Buyurtmani tugatmaoqchi bo`lsangiz 'exit' deb yozing!) sabzi\n",
      "buyurtmangizni kiriting: (Buyurtmani tugatmaoqchi bo`lsangiz 'exit' deb yozing!) piyoz\n",
      "buyurtmangizni kiriting: (Buyurtmani tugatmaoqchi bo`lsangiz 'exit' deb yozing!) guruch\n",
      "buyurtmangizni kiriting: (Buyurtmani tugatmaoqchi bo`lsangiz 'exit' deb yozing!) yog`\n",
      "buyurtmangizni kiriting: (Buyurtmani tugatmaoqchi bo`lsangiz 'exit' deb yozing!) mayiz\n",
      "buyurtmangizni kiriting: (Buyurtmani tugatmaoqchi bo`lsangiz 'exit' deb yozing!) exit\n"
     ]
    },
    {
     "name": "stdout",
     "output_type": "stream",
     "text": [
      "\n",
      " Sizning savatingizda quyidagi mahsulotlar bor: \n",
      "-Sabzi\n",
      "-Piyoz\n",
      "-Guruch\n",
      "-Yog`\n",
      "-Mayiz\n"
     ]
    }
   ],
   "source": [
    "# savat =[]\n",
    "# savol = \"buyurtmangizni kiriting: \"\n",
    "# savol += \"(Buyurtmani tugatmaoqchi bo`lsangiz 'exit' deb yozing!)\"\n",
    "# while True:\n",
    "#     mahsulot = input(savol)\n",
    "#     if mahsulot == 'exit':\n",
    "#         break\n",
    "#     savat.append(mahsulot)\n",
    "# print(\"\\n Sizning savatingizda quyidagi mahsulotlar bor: \")\n",
    "# for nom in savat:\n",
    "#     print(f\"-{nom.title()}\")"
   ]
  },
  {
   "cell_type": "code",
   "execution_count": 6,
   "id": "6dbf42a5-f18a-45eb-af5f-a40d13500787",
   "metadata": {},
   "outputs": [
    {
     "name": "stdin",
     "output_type": "stream",
     "text": [
      "Mahsulotni kiriting:  sabzi\n",
      "Sabzining narxini kiriting:  5000\n",
      "Yana mahsulot qo`shasizmi?(ha/yoq) ha\n",
      "Mahsulotni kiriting:  guruch\n",
      "Guruchning narxini kiriting:  10000\n",
      "Yana mahsulot qo`shasizmi?(ha/yoq) ha\n",
      "Mahsulotni kiriting:  piyoz\n",
      "Piyozning narxini kiriting:  4000\n",
      "Yana mahsulot qo`shasizmi?(ha/yoq) exit\n"
     ]
    },
    {
     "name": "stdout",
     "output_type": "stream",
     "text": [
      "\n",
      "Kiritilgan mahsulotlar ro'yxati:\n",
      "- Sabzi: 5000 so'm\n",
      "- Guruch: 10000 so'm\n",
      "- Piyoz: 4000 so'm\n"
     ]
    }
   ],
   "source": [
    "# mahsulotlar = {}\n",
    "# while True:\n",
    "#     mahsulot = input(\"Mahsulotni kiriting: \")\n",
    "#     narx = int(input(f\"{mahsulot.title()}ning narxini kiriting: \"))\n",
    "#     mahsulotlar[mahsulot] = narx\n",
    "#     javob = input('Yana mahsulot qo`shasizmi?(ha/yoq)').lower()\n",
    "#     if javob != 'ha':\n",
    "#         break\n",
    "# print(\"\\nKiritilgan mahsulotlar ro'yxati:\")\n",
    "# for nom, narx in mahsulotlar.items():\n",
    "#     print(f\"- {nom.title()}: {narx} so'm\")"
   ]
  },
  {
   "cell_type": "code",
   "execution_count": 12,
   "id": "cd1acffe-e8e3-42b6-8a7b-b3224819edb5",
   "metadata": {},
   "outputs": [
    {
     "name": "stdout",
     "output_type": "stream",
     "text": [
      "Bizda sabzi yo`q\n",
      "Bizda qovun yo`q\n",
      "Uzum - 22000 so`m\n",
      "Bizda anjir yo`q\n",
      "Olma - 20000 so`m\n"
     ]
    }
   ],
   "source": [
    "# buyurtmalar = ['olma','anjir','uzum','qovun', 'sabzi']\n",
    "# mahsulotlar = {'olma':20000,\n",
    "#                'shaftoli':25000,\n",
    "#                'tarvuz':18000,\n",
    "#                'uzum':22000}\n",
    "# while buyurtmalar:\n",
    "#     buyurtma = buyurtmalar.pop()\n",
    "#     if buyurtma in mahsulotlar.keys():\n",
    "#         narx = mahsulotlar[buyurtma]\n",
    "#         print(f\"{buyurtma.title()} - {narx} so`m\")\n",
    "#     else:\n",
    "#         print(f\"Bizda {buyurtma} yo`q\")"
   ]
  },
  {
   "cell_type": "code",
   "execution_count": null,
   "id": "b7e18b0b-1950-4ad5-b12a-02413a1b8dea",
   "metadata": {},
   "outputs": [],
   "source": []
  }
 ],
 "metadata": {
  "kernelspec": {
   "display_name": "Python 3 (ipykernel)",
   "language": "python",
   "name": "python3"
  },
  "language_info": {
   "codemirror_mode": {
    "name": "ipython",
    "version": 3
   },
   "file_extension": ".py",
   "mimetype": "text/x-python",
   "name": "python",
   "nbconvert_exporter": "python",
   "pygments_lexer": "ipython3",
   "version": "3.10.9"
  }
 },
 "nbformat": 4,
 "nbformat_minor": 5
}
