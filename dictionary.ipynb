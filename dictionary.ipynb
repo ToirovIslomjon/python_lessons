{
 "cells": [
  {
   "cell_type": "code",
   "execution_count": 7,
   "id": "d9a57d16-97e9-4baa-9cf9-8c34d39f36f0",
   "metadata": {},
   "outputs": [],
   "source": [
    "# python_dictionary"
   ]
  },
  {
   "cell_type": "code",
   "execution_count": 1,
   "id": "7d270b3c-d936-495d-af31-9d0f79b9703d",
   "metadata": {},
   "outputs": [
    {
     "name": "stdout",
     "output_type": "stream",
     "text": [
      "Otam Abdullayev Nizomjon, 1973 - yilda Surxondaryoda tug`ilgan.\n",
      "Onam Abdullayeva Adolat, 1980 - yilda Surxondaryoda tug`ilgan.\n",
      "Ukam Toirov Nodir, 2000 - yilda Surxondaryoda tug`ilgan.\n"
     ]
    }
   ],
   "source": [
    "# otam = {'ism': \"Abdullayev Nizomjon\", 'yil': \"1973\", 'joy': \"Surxondaryo\"}\n",
    "# onam = {'ism': \"Abdullayeva Adolat\", 'yil': \"1980\", 'joy': \"Surxondaryo\"}\n",
    "# ukam = {'ism': \"Toirov Nodir\", 'yil': \"2000\", 'joy': \"Surxondaryo\"}\n",
    "# print(f\"Otam {otam['ism'].title()}, {otam['yil']} - yilda {otam['joy']}da tug`ilgan.\")\n",
    "# print(f\"Onam {onam['ism'].title()}, {onam['yil']} - yilda {onam['joy']}da tug`ilgan.\")\n",
    "# print(f\"Ukam {ukam['ism'].title()}, {ukam['yil']} - yilda {ukam['joy']}da tug`ilgan.\")"
   ]
  },
  {
   "cell_type": "code",
   "execution_count": 2,
   "id": "b96e5750",
   "metadata": {},
   "outputs": [
    {
     "name": "stdout",
     "output_type": "stream",
     "text": [
      "Otamning sevimli taomi manti.\n",
      "Onamning sevimli taomi osh.\n",
      "Ukamning sevimli taomi norin.\n",
      "Opamning sevimli taomi mastava.\n"
     ]
    }
   ],
   "source": [
    "# taomlar = {'otam': \"manti\",\\\n",
    "#           'onam': \"osh\",\\\n",
    "#           'ukam': \"norin\",\\\n",
    "#           'opam': \"mastava\"}\n",
    "# print(f\"Otamning sevimli taomi {taomlar['otam']}.\")\n",
    "# print(f\"Onamning sevimli taomi {taomlar['onam']}.\")\n",
    "# print(f\"Ukamning sevimli taomi {taomlar['ukam']}.\")\n",
    "# print(f\"Opamning sevimli taomi {taomlar['opam']}.\")"
   ]
  },
  {
   "cell_type": "code",
   "execution_count": 3,
   "id": "3f84cf28",
   "metadata": {},
   "outputs": [
    {
     "name": "stdout",
     "output_type": "stream",
     "text": [
      "Stringning ma`nosi matn.\n",
      "Integerning ma`nosi matn.\n",
      "Listning ma`nosi matn.\n"
     ]
    }
   ],
   "source": [
    "# python_izohli_lugati = {'string': \"matn\", 'float': \"o`nlik son\", 'integer': \"raqam\",\\\n",
    "#                          'title': \"bosh harfni kattalashtirish\", 'list': \"o`zgarmas ro`yhat\"}\n",
    "# print(f\"Stringning ma`nosi {python_izohli_lugati['string']}.\")\n",
    "# print(f\"Integerning ma`nosi {python_izohli_lugati['string']}.\")\n",
    "# print(f\"Listning ma`nosi {python_izohli_lugati['string']}.\")\n",
    "\n",
    "\n",
    "\n",
    "\n",
    "\n",
    "\n"
   ]
  },
  {
   "cell_type": "code",
   "execution_count": 4,
   "id": "bf7291ad",
   "metadata": {},
   "outputs": [
    {
     "name": "stdin",
     "output_type": "stream",
     "text": [
      "Biror kalit so`z kiritng: list\n"
     ]
    },
    {
     "name": "stdout",
     "output_type": "stream",
     "text": [
      "o`zgarmas ro`yhat\n"
     ]
    }
   ],
   "source": [
    "# python_izohli_lugati = {'string': \"matn\", 'float': \"o`nlik son\", 'integer': \"raqam\",\\\n",
    "#                          'title': \"bosh harfni kattalashtirish\", 'list': \"o`zgarmas ro`yhat\"}\n",
    "# kalit = input(\"Biror kalit so`z kiritng:\")\n",
    "# print(python_izohli_lugati.get(kalit, 'Bunday kalit so`z mavjud emas.'))"
   ]
  },
  {
   "cell_type": "code",
   "execution_count": 5,
   "id": "b857ed65",
   "metadata": {},
   "outputs": [
    {
     "name": "stdin",
     "output_type": "stream",
     "text": [
      "Biror kalit so`z kiritng: list\n"
     ]
    },
    {
     "name": "stdout",
     "output_type": "stream",
     "text": [
      "list so`zi o`zgarmas ro`yhat deb tarjima qilinadi.\n"
     ]
    }
   ],
   "source": [
    "# python_izohli_lugati = {'string': \"matn\", 'float': \"o`nlik son\", 'integer': \"raqam\",\\\n",
    "#                          'title': \"bosh harfni kattalashtirish\", 'list': \"o`zgarmas ro`yhat\"}\n",
    "# kalit = input(\"Biror kalit so`z kiritng:\")\n",
    "# tarjima = python_izohli_lugati.get(kalit)\n",
    "# if tarjima == None:\n",
    "#     print(\"Bunday kalit so`z mavjud emas.\")\n",
    "# else:\n",
    "#     print(f\"{kalit} so`zi {tarjima} deb tarjima qilinadi.\")\n",
    "\n",
    "    "
   ]
  },
  {
   "cell_type": "code",
   "execution_count": 6,
   "id": "09d31c39",
   "metadata": {},
   "outputs": [
    {
     "name": "stdout",
     "output_type": "stream",
     "text": [
      "Boolean - Mantiqiy qiymat\n",
      "Float - O'nlik son\n",
      "For - Biror amalni gayta-gayta bajarish tsikli\n",
      "If - Shartlarni tekshirish operatori\n",
      "Integer - Butun son\n"
     ]
    }
   ],
   "source": [
    "# python_izohli_lugati = {'Boolean': \"Mantiqiy qiymat\",\n",
    "# 'Float': \"O'nlik son\",\n",
    "# 'For': \"Biror amalni gayta-gayta bajarish tsikli\",\n",
    "# 'If': \"Shartlarni tekshirish operatori\",\n",
    "# 'Integer': \"Butun son\"}\n",
    "# for k,q in sorted(python_izohli_lugati.items()):\n",
    "#     print(f\"{k.title()} - {q}\")"
   ]
  },
  {
   "cell_type": "code",
   "execution_count": 7,
   "id": "0b93556a",
   "metadata": {},
   "outputs": [
    {
     "name": "stdout",
     "output_type": "stream",
     "text": [
      "Dunyo davlatlari:\n",
      "Angliya\n",
      "Fransiya\n",
      "Germaniya\n",
      "Ozbekiston\n",
      "Qozog`Iston\n",
      "Rossiya\n",
      "\n",
      "Davlatlarning poytaxtlari:\n",
      "Berlin\n",
      "London\n",
      "Moskva\n",
      "Olmaota\n",
      "Parij\n",
      "Toshkent\n"
     ]
    }
   ],
   "source": [
    "# dunyo_davlatlari = {'ozbekiston' : \"toshkent\", 'qozog`iston': \"olmaota\", 'rossiya': \"moskva\",\n",
    "#                     'angliya': \"london\", 'fransiya': \"parij\", 'germaniya': \"berlin\"}\n",
    "# print(\"Dunyo davlatlari:\")\n",
    "# for davlat in sorted(dunyo_davlatlari):\n",
    "#     print(davlat.title())\n",
    "    \n",
    "# print(\"\\nDavlatlarning poytaxtlari:\")\n",
    "# for poytaxt in sorted(dunyo_davlatlari.values()):\n",
    "#     print(poytaxt.title())"
   ]
  },
  {
   "cell_type": "code",
   "execution_count": 8,
   "id": "4e90a654",
   "metadata": {},
   "outputs": [
    {
     "name": "stdin",
     "output_type": "stream",
     "text": [
      "Qaysi davlatning poytaxtini bilishni istaysiz?:  angliya\n"
     ]
    },
    {
     "name": "stdout",
     "output_type": "stream",
     "text": [
      "Angliyaning poytaxti London shahri.\n"
     ]
    }
   ],
   "source": [
    "# davlat = input(\"Qaysi davlatning poytaxtini bilishni istaysiz?: \").lower()\n",
    "# poytaxt = dunyo_davlatlari.get(davlat)\n",
    "# if poytaxt==None:\n",
    "#     print('Kechirasiz, bizda bu haqida malumot yoq')    \n",
    "# else:\n",
    "#     print(f\"{davlat.title()}ning poytaxti {poytaxt.title()} shahri.\")\n",
    "\n"
   ]
  },
  {
   "cell_type": "code",
   "execution_count": 1,
   "id": "9217a376-8b7e-4101-ad80-ec1d0eac5a74",
   "metadata": {},
   "outputs": [
    {
     "name": "stdout",
     "output_type": "stream",
     "text": [
      "Buyurtma berishni boshlang. Tugatish uchun 'exit' deb yozing.\n"
     ]
    },
    {
     "name": "stdin",
     "output_type": "stream",
     "text": [
      "Taom nomi:  osh\n"
     ]
    },
    {
     "name": "stdout",
     "output_type": "stream",
     "text": [
      "Osh 20000 so'm - buyurtma qabul qilindi.\n"
     ]
    },
    {
     "name": "stdin",
     "output_type": "stream",
     "text": [
      "Taom nomi:  norin\n"
     ]
    },
    {
     "name": "stdout",
     "output_type": "stream",
     "text": [
      "Norin 23000 so'm - buyurtma qabul qilindi.\n"
     ]
    },
    {
     "name": "stdin",
     "output_type": "stream",
     "text": [
      "Taom nomi:  galubsi\n"
     ]
    },
    {
     "name": "stdout",
     "output_type": "stream",
     "text": [
      "Kechirasiz, bizda 'galubsi' yo‘q.\n"
     ]
    },
    {
     "name": "stdin",
     "output_type": "stream",
     "text": [
      "Taom nomi:  exit\n"
     ]
    },
    {
     "name": "stdout",
     "output_type": "stream",
     "text": [
      "\n",
      "Siz buyurtma qilgan taomlar:\n",
      "- Osh: 20000 so'm\n",
      "- Norin: 23000 so'm\n",
      "\n",
      "Jami hisob: 43000 so'm\n"
     ]
    }
   ],
   "source": [
    "# menyu = {'osh': 20000, 'manti': 25000, 'lag`mon': 18000, 'norin': 23000,\n",
    "#         'kabob': 30000, 'shashlik': 8000}\n",
    "# buyurtmalar = []      # foydalanuvchi buyurtma qilgan taomlar ro'yxati\n",
    "# jami = 0              # umumiy summa\n",
    "\n",
    "# print(\"Buyurtma berishni boshlang. Tugatish uchun 'exit' deb yozing.\")\n",
    "\n",
    "# while True:\n",
    "#     buyurtma = input(\"Taom nomi: \").lower()\n",
    "#     if buyurtma == 'exit':\n",
    "#         break\n",
    "#     elif buyurtma in menyu:\n",
    "#         narx = menyu[buyurtma]\n",
    "#         buyurtmalar.append((buyurtma.title(), narx))\n",
    "#         jami += narx\n",
    "#         print(f\"{buyurtma.title()} {narx} so'm - buyurtma qabul qilindi.\")\n",
    "#     else:\n",
    "#         print(f\"Kechirasiz, bizda '{buyurtma}' yo‘q.\")\n",
    "\n",
    "# # Buyurtmalar va umumiy narxni chiqarish\n",
    "# if buyurtmalar:\n",
    "#     print(\"\\nSiz buyurtma qilgan taomlar:\")\n",
    "#     for taom, narx in buyurtmalar:\n",
    "#         print(f\"- {taom}: {narx} so'm\")\n",
    "#     print(f\"\\nJami hisob: {jami} so'm\")\n",
    "# else:\n",
    "#     print(\"Siz hech qanday taom buyurtma qilmadingiz.\")\n",
    "\n",
    "        \n",
    "                    \n"
   ]
  },
  {
   "cell_type": "code",
   "execution_count": null,
   "id": "cdb785ee-1711-407e-bb31-25a6f9ef2c44",
   "metadata": {},
   "outputs": [],
   "source": []
  }
 ],
 "metadata": {
  "kernelspec": {
   "display_name": "Python 3 (ipykernel)",
   "language": "python",
   "name": "python3"
  },
  "language_info": {
   "codemirror_mode": {
    "name": "ipython",
    "version": 3
   },
   "file_extension": ".py",
   "mimetype": "text/x-python",
   "name": "python",
   "nbconvert_exporter": "python",
   "pygments_lexer": "ipython3",
   "version": "3.10.9"
  }
 },
 "nbformat": 4,
 "nbformat_minor": 5
}
