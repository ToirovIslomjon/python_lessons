{
 "cells": [
  {
   "cell_type": "code",
   "execution_count": 27,
   "id": "14e896a1-5619-467c-a632-8b794abe8234",
   "metadata": {},
   "outputs": [
    {
     "name": "stdout",
     "output_type": "stream",
     "text": [
      "Olim 1991 - yilda tug`ilgan\n"
     ]
    }
   ],
   "source": [
    "# def tyil(ism, yosh):\n",
    "#     # \"\"\"Foydalanuvchi yoshini hisoblaydigan dastur\"\"\"\n",
    "#     print(f\"{ism.title()} {2025-yosh} - yilda tug`ilgan\")\n",
    "# tyil('olim', 34)"
   ]
  },
  {
   "cell_type": "code",
   "execution_count": 28,
   "id": "38b22e98-d891-4c96-8a3b-fee43c64a4e6",
   "metadata": {},
   "outputs": [
    {
     "name": "stdout",
     "output_type": "stream",
     "text": [
      "2ning kavdrati 4ga teng, kubi esa 8ga teng \n"
     ]
    }
   ],
   "source": [
    "# def kv_kub(son):\n",
    "#     print(f\"{son}ning kavdrati {son**2}ga teng, kubi esa {son**3}ga teng \")\n",
    "# kv_kub(2)"
   ]
  },
  {
   "cell_type": "code",
   "execution_count": 29,
   "id": "b2a98f46-e042-481f-a43f-3d4659f0b3ec",
   "metadata": {},
   "outputs": [
    {
     "name": "stdout",
     "output_type": "stream",
     "text": [
      "4 - juft son\n",
      "5 - toq son\n"
     ]
    }
   ],
   "source": [
    "# def juft_toq(son):\n",
    "    \n",
    "#     if son%2:\n",
    "#         print(f\"{son} - toq son\")\n",
    "#     else:\n",
    "#         print(f\"{son} - juft son\")\n",
    "# juft_toq(4)\n",
    "# juft_toq(5)"
   ]
  },
  {
   "cell_type": "code",
   "execution_count": 31,
   "id": "db437412-f3b7-4ec1-b19a-b7ec7ea89409",
   "metadata": {},
   "outputs": [
    {
     "name": "stdout",
     "output_type": "stream",
     "text": [
      "54>42\n",
      "6=6\n",
      "12<21\n"
     ]
    }
   ],
   "source": [
    "# def solishtir(x,y):\n",
    "#     if x>y:\n",
    "#         print(f\"{x}>{y}\")\n",
    "#     elif x<y:\n",
    "#         print(f\"{x}<{y}\")\n",
    "#     else:\n",
    "#         print(f\"{x}={y}\")\n",
    "# solishtir(54,42)\n",
    "# solishtir(6,6)\n",
    "# solishtir(12,21)"
   ]
  },
  {
   "cell_type": "code",
   "execution_count": 38,
   "id": "3599563e-3459-4f21-9613-b33bece418ba",
   "metadata": {},
   "outputs": [
    {
     "name": "stdout",
     "output_type": "stream",
     "text": [
      "2ning 4-darajasi 16ga teng\n",
      "5ning 2-darajasi 25ga teng\n",
      "6ning 5-darajasi 7776ga teng\n"
     ]
    }
   ],
   "source": [
    "# def kvadrat(x,y):\n",
    "#     print(f\"{x}ning {y}-darajasi {x**y}ga teng\")\n",
    "# kvadrat(2,4)\n",
    "# kvadrat(5, 2)\n",
    "# kvadrat(6,5)"
   ]
  },
  {
   "cell_type": "code",
   "execution_count": 39,
   "id": "c325fec5-b3f6-4eeb-9df6-40d16d256615",
   "metadata": {},
   "outputs": [
    {
     "name": "stdout",
     "output_type": "stream",
     "text": [
      "2ning 4-darajasi 16ga teng\n",
      "5ning 2-darajasi 25ga teng\n",
      "6ning 5-darajasi 7776ga teng\n"
     ]
    }
   ],
   "source": [
    "# def kvadrat(x,y=2):\n",
    "#     print(f\"{x}ning {y}-darajasi {x**y}ga teng\")\n",
    "# kvadrat(2,4)\n",
    "# kvadrat(5, 2)\n",
    "# kvadrat(6,5)"
   ]
  },
  {
   "cell_type": "code",
   "execution_count": 1,
   "id": "d4c71985-13ff-47f2-9e31-e0816051c98c",
   "metadata": {},
   "outputs": [
    {
     "name": "stdout",
     "output_type": "stream",
     "text": [
      "70 1ga qoldiqsiz bolinadi\n",
      "70 2ga qoldiqsiz bolinadi\n",
      "70 5ga qoldiqsiz bolinadi\n",
      "70 7ga qoldiqsiz bolinadi\n",
      "70 10ga qoldiqsiz bolinadi\n"
     ]
    }
   ],
   "source": [
    "# def bolinish(son):\n",
    "#     for n in range(1,11):\n",
    "#         if not son%n:\n",
    "#             print(f\"{son} {n}ga qoldiqsiz bolinadi\")\n",
    "\n",
    "# bolinish(70)        "
   ]
  },
  {
   "cell_type": "code",
   "execution_count": 1,
   "id": "b3ff1e24",
   "metadata": {},
   "outputs": [
    {
     "name": "stdout",
     "output_type": "stream",
     "text": [
      "[0, 1, 2, 3, 4, 5, 6, 7, 8, 9]\n",
      "[10, 11, 12, 13, 14, 15, 16, 17, 18, 19, 20]\n"
     ]
    }
   ],
   "source": [
    "# def oraliq(min,max, qadam=2):\n",
    "#     sonlar = [] # bo'sh ro'yxat\n",
    "#     while min<max:\n",
    "#         sonlar.append(min)\n",
    "#         min += 1\n",
    "#     return sonlar\n",
    "\n",
    "# print(oraliq(0,10))\n",
    "# print(oraliq(10,21))"
   ]
  },
  {
   "cell_type": "code",
   "execution_count": 8,
   "id": "76206e16",
   "metadata": {},
   "outputs": [
    {
     "name": "stdout",
     "output_type": "stream",
     "text": [
      "Foydalanuvchilar haqida ma'lumotlar\n",
      "\n",
      "Iltimos ma'lumotlaringizni kiriting:\n",
      "Ismingiz: islomjon\n",
      "Familiyangiz: toirov\n",
      "Tug‘ilgan yilingiz: 1998\n",
      "Tug‘ilgan joyingiz: denov\n",
      "Emailingiz (ixtiyoriy): toirovislom7@gmail.com\n",
      "Telefon raqamingiz: 01023497771\n",
      "Yana ma'lumot qo‘shasizmi? (ha/yo‘q): yoq\n",
      "\n",
      "Mijozlar:\n",
      "Islomjon Toirov, tug`ilgan yili 1998, 27 yoshda, tug`ilgan joyi Denov shahri, emaili toirovislom7@gmail.com, telefoni: 01023497771\n"
     ]
    }
   ],
   "source": [
    "# def mijoz_info(ism, familiya, tyil, tjoy, email='', tel_raqam=''):\n",
    "#     yosh = 2025 - int(tyil)\n",
    "#     mijoz = {\n",
    "#         'ism': ism,\n",
    "#         'familiya': familiya,\n",
    "#         'tyil': tyil,\n",
    "#         'tjoy': tjoy,\n",
    "#         'email': email,\n",
    "#         'tel_raqam': tel_raqam,\n",
    "#         'yosh': yosh\n",
    "#     }\n",
    "#     return mijoz\n",
    "\n",
    "\n",
    "# print(\"Foydalanuvchilar haqida ma'lumotlar\")\n",
    "# mijozlar = []\n",
    "\n",
    "# while True:\n",
    "#     print(\"\\nIltimos ma'lumotlaringizni kiriting:\")\n",
    "#     ism = input(\"Ismingiz: \")\n",
    "#     familiya = input(\"Familiyangiz: \")\n",
    "#     tyil = int(input(\"Tug‘ilgan yilingiz: \"))\n",
    "#     tjoy = input(\"Tug‘ilgan joyingiz: \")\n",
    "#     email = input(\"Emailingiz (ixtiyoriy): \")\n",
    "#     tel_raqam = input(\"Telefon raqamingiz: \")  \n",
    "\n",
    "#     mijoz = mijoz_info(ism, familiya, tyil, tjoy, email=email, tel_raqam=tel_raqam)\n",
    "#     mijozlar.append(mijoz)\n",
    "\n",
    "#     javob = input(\"Yana ma'lumot qo‘shasizmi? (ha/yo‘q): \").lower()\n",
    "#     if javob == 'yoq' or javob == 'yo‘q':\n",
    "#         break\n",
    "\n",
    "# print(\"\\nMijozlar:\")\n",
    "# for mijoz in mijozlar:\n",
    "#     print(\n",
    "#         f\"{mijoz['ism'].title()} {mijoz['familiya'].title()}, tug`ilgan yili {mijoz['tyil']}, \"\n",
    "#         f\"{mijoz['yosh']} yoshda, tug`ilgan joyi {mijoz['tjoy'].title()} shahri, \"\n",
    "#         f\"emaili {mijoz['email']}, telefoni: {mijoz['tel_raqam']}\"\n",
    "#     )\n"
   ]
  },
  {
   "cell_type": "code",
   "execution_count": 9,
   "id": "3314a307",
   "metadata": {},
   "outputs": [
    {
     "name": "stdout",
     "output_type": "stream",
     "text": [
      "13\n"
     ]
    }
   ],
   "source": [
    "# def (x,y,z):\n",
    "#     max = x\n",
    "#     if y >= max:\n",
    "#         max = y\n",
    "#     if z >= max:\n",
    "#         max = z\n",
    "#     return max\n",
    "# print(kattasi(3,6,13))"
   ]
  },
  {
   "cell_type": "code",
   "execution_count": 13,
   "id": "568c4865",
   "metadata": {},
   "outputs": [
    {
     "name": "stdout",
     "output_type": "stream",
     "text": [
      "Aylananing radiusini kiriting: 7\n",
      "\n",
      "Aylana haqida ma'lumot:\n",
      "Radius     : 7.0\n",
      "Diametr    : 14.0\n",
      "Perimetri  : 43.98\n",
      "Yuzi       : 153.94\n"
     ]
    }
   ],
   "source": [
    "# import math  # pi konstantasi uchun\n",
    "\n",
    "# def aylana_info(radius):\n",
    "#     \"\"\"Aylana radiusiga qarab lug'at shaklida ma'lumot qaytaradi\"\"\"\n",
    "#     diameter = 2 * radius\n",
    "#     perimeter = 2 * math.pi * radius\n",
    "#     area = math.pi * radius**2\n",
    "\n",
    "#     info = {\n",
    "#         'radius': radius,\n",
    "#         'diameter': diameter,\n",
    "#         'perimeter': round(perimeter, 2),\n",
    "#         'area': round(area, 2)\n",
    "#     }\n",
    "#     return info\n",
    "# r = float(input(\"Aylananing radiusini kiriting: \"))\n",
    "# natija = aylana_info(r)\n",
    "# print(\"\\nAylana haqida ma'lumot:\")\n",
    "# print(f\"Radius     : {natija['radius']}\")\n",
    "# print(f\"Diametr    : {natija['diameter']}\")\n",
    "# print(f\"Perimetri  : {natija['perimeter']}\")\n",
    "# print(f\"Yuzi       : {natija['area']}\")"
   ]
  },
  {
   "cell_type": "code",
   "execution_count": 15,
   "id": "b08fac41",
   "metadata": {},
   "outputs": [
    {
     "name": "stdout",
     "output_type": "stream",
     "text": [
      "[2, 3, 5, 7, 11, 13, 17, 19, 23]\n"
     ]
    }
   ],
   "source": [
    "# def tub_sonlar_royxati(boshlanish, tugash):\n",
    "#     \"\"\"Berilgan oraliqdagi tub sonlar ro'yxatini qaytaradi\"\"\"\n",
    "#     tub_sonlar = []\n",
    "#     for son in range(boshlanish, tugash + 1):\n",
    "#         if son > 1:\n",
    "#             for i in range(2, int(son ** 0.5) + 1):\n",
    "#                 if son % i == 0:\n",
    "#                     break\n",
    "#             else:\n",
    "#                 tub_sonlar.append(son)\n",
    "#     return tub_sonlar\n",
    "# print(tub_sonlar_royxati(2,24))"
   ]
  },
  {
   "cell_type": "code",
   "execution_count": 6,
   "id": "9b187d60",
   "metadata": {},
   "outputs": [
    {
     "name": "stdout",
     "output_type": "stream",
     "text": [
      "Nechta Fibonachchi sonini chiqaramiz? :34\n",
      "[1, 1, 2, 3, 5, 8, 13, 21, 34, 55, 89, 144, 233, 377, 610, 987, 1597, 2584, 4181, 6765, 10946, 17711, 28657, 46368, 75025, 121393, 196418, 317811, 514229, 832040, 1346269, 2178309, 3524578, 5702887]\n"
     ]
    }
   ],
   "source": [
    "# def fibonacci(n):\n",
    "#     sonlar = []\n",
    "#     for x in range(n):\n",
    "#         if x == 0 or x == 1:\n",
    "#             sonlar.append(1)\n",
    "#         else:\n",
    "#             sonlar.append(sonlar[x - 1] + sonlar[x - 2])\n",
    "#     return sonlar\n",
    "# n = int(input(\"Nechta Fibonachchi sonini chiqaramiz? :\"))\n",
    "# print(fibonacci(n))"
   ]
  },
  {
   "cell_type": "code",
   "execution_count": 10,
   "id": "e5ec0438",
   "metadata": {},
   "outputs": [
    {
     "name": "stdout",
     "output_type": "stream",
     "text": [
      "['Ali', 'Vali', 'Hasan', 'Husan']\n"
     ]
    }
   ],
   "source": [
    "# def katta_harf(matnlar):\n",
    "#     for i in range(len(matnlar)):\n",
    "#         matnlar[i] = matnlar[i].title()\n",
    "        \n",
    "# ismlar = ['ali', 'vali', 'hasan', 'husan']\n",
    "# katta_harf(ismlar)\n",
    "# print(ismlar)"
   ]
  },
  {
   "cell_type": "code",
   "execution_count": 21,
   "id": "8caf3c5c",
   "metadata": {},
   "outputs": [
    {
     "name": "stdout",
     "output_type": "stream",
     "text": [
      "['ali', 'vali', 'hasan', 'husan']\n",
      "['Ali', 'Vali', 'Hasan', 'Husan']\n"
     ]
    }
   ],
   "source": [
    "# def katta_harf(matnlar):\n",
    "#     matnlar = matnlar[:]\n",
    "#     for i in range(len(matnlar)):\n",
    "#         matnlar[i] = matnlar[i].title()\n",
    "#     return matnlar\n",
    "\n",
    "# # def katta_harf(matnlar):\n",
    "# #     return [matn.title() for matn in matnlar]       \n",
    "\n",
    "# ismlar = ['ali', 'vali', 'hasan', 'husan']\n",
    "# yangi_ismlar = katta_harf(ismlar)\n",
    "# print(ismlar)\n",
    "# print(yangi_ismlar)"
   ]
  },
  {
   "cell_type": "code",
   "execution_count": 2,
   "id": "18e70042",
   "metadata": {},
   "outputs": [
    {
     "name": "stdout",
     "output_type": "stream",
     "text": [
      "Talaba Alining bahosini kriting: 5\n",
      "Talaba Valining bahosini kriting: 4\n",
      "Talaba Hasanning bahosini kriting: 3\n",
      "Talaba Husanning bahosini kriting: 5\n",
      "{'ali': '5', 'vali': '4', 'hasan': '3', 'husan': '5'}\n",
      "['ali', 'vali', 'hasan', 'husan']\n"
     ]
    }
   ],
   "source": [
    "# talabalar = ['ali', 'vali', 'hasan', 'husan']\n",
    "\n",
    "# def bahola(ismlar):\n",
    "#     baholar = {}\n",
    "#     for ism in ismlar:\n",
    "#         baho = input(f\"Talaba {ism.title()}ning bahosini kriting: \")\n",
    "#         baholar[ism]=baho\n",
    "#     return baholar\n",
    "\n",
    "# baholar = bahola(talabalar)\n",
    "# print(baholar)\n",
    "# print(talabalar)\n",
    "    "
   ]
  },
  {
   "cell_type": "code",
   "execution_count": null,
   "id": "31929401",
   "metadata": {},
   "outputs": [],
   "source": []
  }
 ],
 "metadata": {
  "kernelspec": {
   "display_name": "Python 3 (ipykernel)",
   "language": "python",
   "name": "python3"
  },
  "language_info": {
   "codemirror_mode": {
    "name": "ipython",
    "version": 3
   },
   "file_extension": ".py",
   "mimetype": "text/x-python",
   "name": "python",
   "nbconvert_exporter": "python",
   "pygments_lexer": "ipython3",
   "version": "3.10.9"
  }
 },
 "nbformat": 4,
 "nbformat_minor": 5
}
