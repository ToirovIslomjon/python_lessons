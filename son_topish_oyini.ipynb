{
 "cells": [
  {
   "cell_type": "code",
   "execution_count": null,
   "id": "cbfedf80",
   "metadata": {},
   "outputs": [
    {
     "name": "stdout",
     "output_type": "stream",
     "text": [
      "Men 1 dan 10 gacha son o'yladim. Topa olasizmi?>>>5\n",
      "Xato. Men o'ylagan son bundan kattaroq. Yana harakat qiling:>>>8\n",
      "Xato. Men o'ylagan son bundan kattaroq. Yana harakat qiling:>>>9\n",
      "Tabriklayman. 3 ta taxmin bilan topdingiz!\n",
      "1 dan 10 gacha son o'ylang va istalgan tugmani bosing. Men topaman.6\n",
      "siz 3 sonini o'yladingiz: to'g'ri (t),men o'ylagan son bundan kattaroq (+), yoki kichikroq (-)+\n",
      "siz 5 sonini o'yladingiz: to'g'ri (t),men o'ylagan son bundan kattaroq (+), yoki kichikroq (-)+\n",
      "siz 10 sonini o'yladingiz: to'g'ri (t),men o'ylagan son bundan kattaroq (+), yoki kichikroq (-)-\n",
      "siz 6 sonini o'yladingiz: to'g'ri (t),men o'ylagan son bundan kattaroq (+), yoki kichikroq (-)t\n",
      "Men 4 ta taxmin bilan topdim!\n",
      "Siz 3 taxmin bilan topdingiz va yutdingiz!\n"
     ]
    }
   ],
   "source": [
    "# import random\n",
    "\n",
    "# def sontop(x=10):\n",
    "#     tasodifiy_son = random.randint(1,x)\n",
    "#     print(f\"Men 1 dan {x} gacha son o'yladim. Topa olasizmi?\", end=\"\")\n",
    "#     taxminlar = 0\n",
    "#     while True:\n",
    "#         taxminlar += 1\n",
    "#         taxmin = int(input(\">>>\"))\n",
    "#         if taxmin<tasodifiy_son:\n",
    "#             print(\"Xato. Men o'ylagan son bundan kattaroq. Yana harakat qiling:\", end=\"\")\n",
    "#         elif taxmin>tasodifiy_son:\n",
    "#             print(\"Xato. Men o'ylagan son bundan kichikroq. Yana harakat qiling:\", end=\"\")\n",
    "#         else:\n",
    "#             break\n",
    "        \n",
    "#     print(f\"Tabriklayman. {taxminlar} ta taxmin bilan topdingiz!\")\n",
    "#     return taxminlar\n",
    "    \n",
    "\n",
    "# def sontop_pc(x=10):\n",
    "#     input(f\"1 dan {x} gacha son o'ylang va istalgan tugmani bosing. Men topaman.\")\n",
    "#     quyi = 1\n",
    "#     yuqori = x\n",
    "#     taxminlar = 0\n",
    "#     while True:\n",
    "#         taxminlar += 1\n",
    "#         if quyi != yuqori:\n",
    "#             taxmin = random.randint(quyi,yuqori)\n",
    "#         else:\n",
    "#             taxmin = quyi\n",
    "#         javob = input(f\"Siz {taxmin} sonini o'yladingiz: to'g'ri (t),\"\n",
    "#                       f\"men o'ylagan son bundan kattaroq (+), yoki kichikroq (-)\".lower())\n",
    "#         if javob == \"-\":\n",
    "#             yuqori = taxmin - 1\n",
    "#         elif javob == \"+\":\n",
    "#             quyi = taxmin + 1\n",
    "#         else:\n",
    "#             break\n",
    "#     print(f\"Men {taxminlar} ta taxmin bilan topdim!\")\n",
    "#     return taxminlar\n",
    "\n",
    "# def play(x=10):\n",
    "#     yana = True\n",
    "#     while yana:\n",
    "#         taxminlar_user = sontop(x)\n",
    "#         taxminlar_pc = sontop_pc(x)\n",
    "        \n",
    "#         if taxminlar_user>taxminlar_pc:\n",
    "#             print(f\"Men {taxminlar_pc} taxmin bilan topdim va  yutdim!\")\n",
    "#         elif taxminlar_user<taxminlar_pc:\n",
    "#             print(f\"Siz {taxminlar_user} taxmin bilan topdingiz va yutdingiz!\")\n",
    "#         else:\n",
    "#             print(\"Durrang!\")\n",
    "#         yana = int(input(\"Yana o'ynaymizmi? Ha(1)/Yo'q(0):\"))\n",
    "            \n",
    "# play()\n",
    "    "
   ]
  },
  {
   "cell_type": "code",
   "execution_count": null,
   "id": "150d99b8",
   "metadata": {},
   "outputs": [],
   "source": []
  }
 ],
 "metadata": {
  "kernelspec": {
   "display_name": "Python 3 (ipykernel)",
   "language": "python",
   "name": "python3"
  },
  "language_info": {
   "codemirror_mode": {
    "name": "ipython",
    "version": 3
   },
   "file_extension": ".py",
   "mimetype": "text/x-python",
   "name": "python",
   "nbconvert_exporter": "python",
   "pygments_lexer": "ipython3",
   "version": "3.10.9"
  }
 },
 "nbformat": 4,
 "nbformat_minor": 5
}
