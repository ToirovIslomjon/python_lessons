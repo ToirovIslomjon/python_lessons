{
 "cells": [
  {
   "cell_type": "code",
   "execution_count": 1,
   "id": "aa4634ac-aae0-4592-80bf-81150dbd67e4",
   "metadata": {},
   "outputs": [],
   "source": [
    "#python_nesting"
   ]
  },
  {
   "cell_type": "code",
   "execution_count": 5,
   "id": "71d1756f-323a-4469-9e32-23b7c84411cd",
   "metadata": {},
   "outputs": [
    {
     "name": "stdout",
     "output_type": "stream",
     "text": [
      "Alisher Navoiy 1483da tug`ilib 1501da kobulda vafot etgan\n",
      "Amir Temur 1336da tug`ilib 1405da qarshida vafot etgan\n",
      "Muhammad Ibn Ismoil 810da tug`ilib 870da buxoroda vafot etgan\n",
      "Erkin Vohidov 1936da tug`ilib 2016da Farg'onada vafot etgan\n"
     ]
    }
   ],
   "source": [
    "# navoiy = {'ism':\"alisher navoiy\",\n",
    "#           'tyil': 1483,\n",
    "#           'vyil': 1501,\n",
    "#           'tjoy': \"kobul\"\n",
    "#          }\n",
    "# temur = {'ism':\"amir temur\",\n",
    "#          'tyil': 1336,\n",
    "#          'vyil': 1405,\n",
    "#          'tjoy': \"qarshi\"\n",
    "#         }\n",
    "# buxoriy = {'ism':\"Muhammad ibn Ismoil\",\n",
    "#            'tyil': 810,\n",
    "#            'vyil': 870,\n",
    "#            'tjoy': \"buxoro\"\n",
    "#           }\n",
    "# vohidov = {'ism':'Erkin Vohidov',\n",
    "#            'tyil':1936,\n",
    "#            'vyil':2016,\n",
    "#            'tjoy':\"Farg'ona\"\n",
    "#            }\n",
    "# shaxslar = [navoiy, temur,buxoriy,vohidov]\n",
    "# for shaxs in shaxslar:\n",
    "#     print(f\"{shaxs['ism'].title()} {shaxs['tyil']}da tug`ilib {shaxs['vyil']}da {shaxs['tjoy']}da vafot etgan\")"
   ]
  },
  {
   "cell_type": "code",
   "execution_count": 28,
   "id": "b1b2c2b1-130c-4981-ad26-cc0d2a04b296",
   "metadata": {},
   "outputs": [
    {
     "name": "stdout",
     "output_type": "stream",
     "text": [
      "\n",
      "Alisher Navoiyning mashhur asarlari:\n",
      "arbain\n",
      "munojot\n",
      "xamsa\n",
      "majolisun-nafois\n",
      "\n",
      "Abdulla Qodiriyning mashhur asarlari:\n",
      "O'tkan kunlar\n",
      "Mehrobdan Chayon\n",
      "Obid ketmon\n",
      "\n",
      "Muhammad Ibn Ismoilning mashhur asarlari:\n",
      "Al-Adab al-Mufrad\n",
      "At-Tarikh al-Kabir\n",
      "Al-Jomi' as-Sog'ir\n",
      "\n",
      "Erkin Vohidovning mashhur asarlari:\n",
      "Shoiru, sheʼru shuur\n",
      "Iztirob\n",
      "Saylanma\n",
      "Toʻrtinchi jild: Koʻngil nidosi\n"
     ]
    }
   ],
   "source": [
    "# navoiy = {'ism':\"alisher navoiy\",\n",
    "#           'tyil': 1483,\n",
    "#           'vyil': 1501,\n",
    "#           'tjoy': \"kobul\",\n",
    "#           'asarlar': [\"arbain\", \"munojot\", \"xamsa\", \"majolisun-nafois\"]\n",
    "#          }\n",
    "# qodiriy = {'ism':\"abdulla qodiriy\",\n",
    "#          'tyil': 1894,\n",
    "#          'vyil': 1938,\n",
    "#          'tjoy': \"toshkent\",\n",
    "#          'asarlar': [\"O'tkan kunlar\",\"Mehrobdan Chayon\",'Obid ketmon']\n",
    "#         }\n",
    "# buxoriy = {'ism':\"Muhammad ibn Ismoil\",\n",
    "#            'tyil': 810,\n",
    "#            'vyil': 870,\n",
    "#            'tjoy': \"buxoro\",\n",
    "#            'asarlar': [\"Al-Adab al-Mufrad\", \"At-Tarikh al-Kabir\", \"Al-Jomi' as-Sog'ir\"]\n",
    "#           }\n",
    "# vohidov = {'ism':'Erkin Vohidov',\n",
    "#            'tyil':1936,\n",
    "#            'vyil':2016,\n",
    "#            'tjoy':\"Farg'ona\",\n",
    "#            'asarlar': [\"Shoiru, sheʼru shuur\", \"Iztirob\", \"Saylanma\", \"Toʻrtinchi jild: Koʻngil nidosi\"]\n",
    "#            }\n",
    "# shaxslar = [navoiy, qodiriy, buxoriy,vohidov]\n",
    "# for shaxs in shaxslar:\n",
    "#     ism = shaxs['ism']\n",
    "#     asarlar = shaxs['asarlar']\n",
    "#     print(f\"\\n{ism.title()}ning mashhur asarlari:\")\n",
    "#     for asar in asarlar:\n",
    "#         print(asar)\n",
    "                        "
   ]
  },
  {
   "cell_type": "code",
   "execution_count": 41,
   "id": "a4753d2b-5e9f-4af8-ab88-57bc5cb46981",
   "metadata": {},
   "outputs": [
    {
     "name": "stdout",
     "output_type": "stream",
     "text": [
      "\n",
      "Alining sevimli kinolari: \n",
      "Terminator\n",
      "Rambo\n",
      "Titanic\n",
      "\n",
      "Valining sevimli kinolari: \n",
      "Tenet\n",
      "Inception\n",
      "Interstellar\n",
      "\n",
      "Hasanning sevimli kinolari: \n",
      "Abdullajon\n",
      "Bomba\n",
      "Shaytanat\n",
      "\n",
      "Husanning sevimli kinolari: \n",
      "Mahallada duv-duv gap\n",
      "John Wick\n"
     ]
    }
   ],
   "source": [
    "# kinolar = {\n",
    "#     'ali':['Terminator','Rambo','Titanic'],\n",
    "#     'vali':['Tenet','Inception','Interstellar'],\n",
    "#     'hasan':['Abdullajon','Bomba','Shaytanat'],\n",
    "#     'husan':['Mahallada duv-duv gap','John Wick']\n",
    "#     }\n",
    "# for ism, kinolar in kinolar.items():\n",
    "#     print(f\"\\n{ism.title()}ning sevimli kinolari: \")\n",
    "#     for kino in kinolar:\n",
    "#         print(kino)"
   ]
  },
  {
   "cell_type": "code",
   "execution_count": 9,
   "id": "913cc29c-188e-455b-8448-c15352504734",
   "metadata": {},
   "outputs": [
    {
     "name": "stdout",
     "output_type": "stream",
     "text": [
      "\n",
      "O`zbekistonning poytaxti: Toshkent\n",
      "Hududi: 448978 kv.km\n",
      "Aholisi: 33000000\n",
      "Pul birligi: so'm\n",
      "\n",
      "Rossiyaning poytaxti: Moskva\n",
      "Hududi: 17098246 kv.km\n",
      "Aholisi: 144000000\n",
      "Pul birligi: rubl\n",
      "\n",
      "AQSHning poytaxti: Vashington\n",
      "Hududi: 9631418 kv.km\n",
      "Aholisi: 327000000\n",
      "Pul birligi: dollar\n",
      "\n",
      "Malayziyaning poytaxti: Kuala-Lumpur\n",
      "Hududi: 329750 kv.km\n",
      "Aholisi: 25000000\n",
      "Pul birligi: rinngit\n"
     ]
    }
   ],
   "source": [
    "# davlatlar = {\n",
    "#     \"o`zbekiston\":{'poytaxt':\"toshkent\",\n",
    "#                    'maydon':448978,\n",
    "#                    'aholi':33_000_000,\n",
    "#                    'pul birligi':\"so'm\"\n",
    "#                    },\n",
    "#     \"rossiya\":{'poytaxt':\"moskva\",\n",
    "#                    'maydon':17_098_246,\n",
    "#                    'aholi':144_000_000,\n",
    "#                    'pul birligi':\"rubl\"\n",
    "#                    },\n",
    "#     \"aqsh\":{'poytaxt':\"vashington\",\n",
    "#                    'maydon':9_631_418,\n",
    "#                    'aholi':327_000_000,\n",
    "#                    'pul birligi':\"dollar\"},\n",
    "#     \"malayziya\":{'poytaxt':\"kuala-lumpur\",\n",
    "#                    'maydon':329750,\n",
    "#                    'aholi':25_000_000,\n",
    "#                    'pul birligi':\"rinngit\"}\n",
    "#     }\n",
    "# for davlat, info in davlatlar.items():\n",
    "#     if davlat.lower()=='aqsh':\n",
    "#         davlat = davlat.upper()\n",
    "#     else:\n",
    "#         davlat = davlat.capitalize()\n",
    "#     print(f\"\\n{davlat}ning poytaxti: {info['poytaxt'].title()}\"\n",
    "#           f\"\\nHududi: {info['maydon']} kv.km\"\n",
    "#           f\"\\nAholisi: {info['aholi']}\"\n",
    "#           f\"\\nPul birligi: {info['pul birligi']}\")"
   ]
  },
  {
   "cell_type": "code",
   "execution_count": 7,
   "id": "51b6bdf2-c5a0-462c-97e0-87e2273cf387",
   "metadata": {},
   "outputs": [
    {
     "name": "stdin",
     "output_type": "stream",
     "text": [
      "Davlat nomini kiriting: roisya\n"
     ]
    },
    {
     "name": "stdout",
     "output_type": "stream",
     "text": [
      "Bizda bunday davlat mavjud emas!\n"
     ]
    }
   ],
   "source": [
    "# davlatlar = {\n",
    "#     \"o`zbekiston\":{'poytaxt':\"toshkent\",\n",
    "#                    'maydon':448978,\n",
    "#                    'aholi':33_000_000,\n",
    "#                    'pul birligi':\"so'm\"\n",
    "#                    },\n",
    "#     \"rossiya\":{'poytaxt':\"moskva\",\n",
    "#                    'maydon':17_098_246,\n",
    "#                    'aholi':144_000_000,\n",
    "#                    'pul birligi':\"rubl\"\n",
    "#                    },\n",
    "#     \"aqsh\":{'poytaxt':\"vashington\",\n",
    "#                    'maydon':9_631_418,\n",
    "#                    'aholi':327_000_000,\n",
    "#                    'pul birligi':\"dollar\"},\n",
    "#     \"malayziya\":{'poytaxt':\"kuala-lumpur\",\n",
    "#                    'maydon':329750,\n",
    "#                    'aholi':25_000_000,\n",
    "#                    'pul birligi':\"rinngit\"}\n",
    "#     }\n",
    "# davlat = input('Davlat nomini kiriting:').lower()\n",
    "# if davlat in davlatlar:\n",
    "#     info = davlatlar[davlat]\n",
    "#     print(f\"\\n{davlat.capitalize()}ning poytaxti: {info['poytaxt'].title()}\"\n",
    "#           f\"\\nHududi: {info['maydon']} kv.km\"\n",
    "#           f\"\\nAholisi: {info['aholi']}\"\n",
    "#           f\"\\nPul birligi: {info['pul birligi']}\")\n",
    "# else:\n",
    "#         print(f\"Bizda bunday davlat mavjud emas!\")"
   ]
  },
  {
   "cell_type": "code",
   "execution_count": null,
   "id": "9589d248-fbfe-4f39-8d71-9e06812d9298",
   "metadata": {},
   "outputs": [],
   "source": []
  },
  {
   "cell_type": "code",
   "execution_count": null,
   "id": "a8b13259-3621-4741-96ec-2989c2e61800",
   "metadata": {},
   "outputs": [],
   "source": []
  }
 ],
 "metadata": {
  "kernelspec": {
   "display_name": "Python 3 (ipykernel)",
   "language": "python",
   "name": "python3"
  },
  "language_info": {
   "codemirror_mode": {
    "name": "ipython",
    "version": 3
   },
   "file_extension": ".py",
   "mimetype": "text/x-python",
   "name": "python",
   "nbconvert_exporter": "python",
   "pygments_lexer": "ipython3",
   "version": "3.10.9"
  }
 },
 "nbformat": 4,
 "nbformat_minor": 5
}
